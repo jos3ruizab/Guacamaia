{
 "cells": [
  {
   "cell_type": "code",
   "execution_count": 1,
   "id": "f38d377d-9d61-40fb-8c4d-7ae7310800ee",
   "metadata": {},
   "outputs": [
    {
     "name": "stdout",
     "output_type": "stream",
     "text": [
      "[STEP] Importar librerías, definir rutas y cargar datasets de atracciones y hoteles; luego unirlos en un único DataFrame\n",
      "Forma df1: (26012, 9)\n",
      "Forma df2: (41950, 9)\n",
      "Forma total unida: (67962, 9)\n"
     ]
    },
    {
     "data": {
      "text/html": [
       "<div>\n",
       "<style scoped>\n",
       "    .dataframe tbody tr th:only-of-type {\n",
       "        vertical-align: middle;\n",
       "    }\n",
       "\n",
       "    .dataframe tbody tr th {\n",
       "        vertical-align: top;\n",
       "    }\n",
       "\n",
       "    .dataframe thead th {\n",
       "        text-align: right;\n",
       "    }\n",
       "</style>\n",
       "<table border=\"1\" class=\"dataframe\">\n",
       "  <thead>\n",
       "    <tr style=\"text-align: right;\">\n",
       "      <th></th>\n",
       "      <th>Location Name</th>\n",
       "      <th>Lugar</th>\n",
       "      <th>Text</th>\n",
       "      <th>Rating</th>\n",
       "      <th>Year</th>\n",
       "      <th>Month</th>\n",
       "      <th>Day</th>\n",
       "      <th>Ciudad</th>\n",
       "      <th>Tipo</th>\n",
       "    </tr>\n",
       "  </thead>\n",
       "  <tbody>\n",
       "    <tr>\n",
       "      <th>0</th>\n",
       "      <td>Angel_Falls</td>\n",
       "      <td>Angel without a helicopter is not Angel</td>\n",
       "      <td>Pegasus tour costs $750 per person, helicopter...</td>\n",
       "      <td>5</td>\n",
       "      <td>2025</td>\n",
       "      <td>3</td>\n",
       "      <td>11</td>\n",
       "      <td>Canaima_National_Park_Guayana_Region</td>\n",
       "      <td>atraccion</td>\n",
       "    </tr>\n",
       "    <tr>\n",
       "      <th>1</th>\n",
       "      <td>Angel_Falls</td>\n",
       "      <td>Bra stolen</td>\n",
       "      <td>I as a man always wear a bra and I wanted to s...</td>\n",
       "      <td>1</td>\n",
       "      <td>2025</td>\n",
       "      <td>2</td>\n",
       "      <td>6</td>\n",
       "      <td>Canaima_National_Park_Guayana_Region</td>\n",
       "      <td>atraccion</td>\n",
       "    </tr>\n",
       "    <tr>\n",
       "      <th>2</th>\n",
       "      <td>Angel_Falls</td>\n",
       "      <td>A 4 x 4 experience</td>\n",
       "      <td>This excursion I think is the one that everyon...</td>\n",
       "      <td>5</td>\n",
       "      <td>2024</td>\n",
       "      <td>9</td>\n",
       "      <td>11</td>\n",
       "      <td>Canaima_National_Park_Guayana_Region</td>\n",
       "      <td>atraccion</td>\n",
       "    </tr>\n",
       "    <tr>\n",
       "      <th>3</th>\n",
       "      <td>Angel_Falls</td>\n",
       "      <td>A dream come true!!!</td>\n",
       "      <td>One of the best adventures of my life, I met h...</td>\n",
       "      <td>5</td>\n",
       "      <td>2024</td>\n",
       "      <td>8</td>\n",
       "      <td>29</td>\n",
       "      <td>Canaima_National_Park_Guayana_Region</td>\n",
       "      <td>atraccion</td>\n",
       "    </tr>\n",
       "    <tr>\n",
       "      <th>4</th>\n",
       "      <td>Angel_Falls</td>\n",
       "      <td>Unforgettable experience and very good organiz...</td>\n",
       "      <td>My trip to Canaima and Salto Angel was unforge...</td>\n",
       "      <td>5</td>\n",
       "      <td>2024</td>\n",
       "      <td>6</td>\n",
       "      <td>25</td>\n",
       "      <td>Canaima_National_Park_Guayana_Region</td>\n",
       "      <td>atraccion</td>\n",
       "    </tr>\n",
       "  </tbody>\n",
       "</table>\n",
       "</div>"
      ],
      "text/plain": [
       "  Location Name                                              Lugar  \\\n",
       "0   Angel_Falls            Angel without a helicopter is not Angel   \n",
       "1   Angel_Falls                                         Bra stolen   \n",
       "2   Angel_Falls                                 A 4 x 4 experience   \n",
       "3   Angel_Falls                               A dream come true!!!   \n",
       "4   Angel_Falls  Unforgettable experience and very good organiz...   \n",
       "\n",
       "                                                Text  Rating  Year  Month  \\\n",
       "0  Pegasus tour costs $750 per person, helicopter...       5  2025      3   \n",
       "1  I as a man always wear a bra and I wanted to s...       1  2025      2   \n",
       "2  This excursion I think is the one that everyon...       5  2024      9   \n",
       "3  One of the best adventures of my life, I met h...       5  2024      8   \n",
       "4  My trip to Canaima and Salto Angel was unforge...       5  2024      6   \n",
       "\n",
       "   Day                                Ciudad       Tipo  \n",
       "0   11  Canaima_National_Park_Guayana_Region  atraccion  \n",
       "1    6  Canaima_National_Park_Guayana_Region  atraccion  \n",
       "2   11  Canaima_National_Park_Guayana_Region  atraccion  \n",
       "3   29  Canaima_National_Park_Guayana_Region  atraccion  \n",
       "4   25  Canaima_National_Park_Guayana_Region  atraccion  "
      ]
     },
     "execution_count": 1,
     "metadata": {},
     "output_type": "execute_result"
    }
   ],
   "source": [
    "# imports y rutas\n",
    "import pandas as pd\n",
    "import numpy as np\n",
    "import re\n",
    "from pathlib import Path\n",
    "\n",
    "log_file_path = Path(r\"C:\\Users\\Jose Ruiz\\Desktop\\tripadvisor_output\\Full\\proceso.log\")\n",
    "def log_step(msg):\n",
    "    log_line = f\"[STEP] {msg}\"\n",
    "    # Mostrar en consola\n",
    "    print(log_line)\n",
    "    # Guardar en archivo .txt (append)\n",
    "    with open(log_file_path, \"a\", encoding=\"utf-8\") as f:\n",
    "        f.write(log_line + \"\\n\")\n",
    "        \n",
    "log_step(\"Importar librerías, definir rutas y cargar datasets de atracciones y hoteles; luego unirlos en un único DataFrame\")\n",
    "\n",
    "# Definimos la carpeta base\n",
    "base_path = Path(r\"C:\\Users\\Jose Ruiz\\Desktop\\tripadvisor_output\\Full\")\n",
    "\n",
    "# Definimos los archivos\n",
    "file1 = base_path / \"atracciones_venezuela_tripadvisor.csv\"\n",
    "file2 = base_path / \"hoteles_venezuela_tripadvisor.csv\"\n",
    "\n",
    "# Cargamos los dos datasets\n",
    "df1 = pd.read_csv(file1)\n",
    "df2 = pd.read_csv(file2)\n",
    "\n",
    "print(\"Forma df1:\", df1.shape)\n",
    "print(\"Forma df2:\", df2.shape)\n",
    "\n",
    "# Unimos ambos datasets\n",
    "df = pd.concat([df1, df2], ignore_index=True)\n",
    "\n",
    "print(\"Forma total unida:\", df.shape)\n",
    "df.head()"
   ]
  },
  {
   "cell_type": "markdown",
   "id": "4a790b36-b79a-41af-a4c5-01b057192a01",
   "metadata": {},
   "source": [
    "Lee el CSV y asegura tipos; evita que cadenas como “NA” se conviertan en NaN accidentalmente y reporta el shape inicial."
   ]
  },
  {
   "cell_type": "code",
   "execution_count": 2,
   "id": "dbf412ea-55cf-44e6-af6e-d65e5d550422",
   "metadata": {},
   "outputs": [
    {
     "name": "stdout",
     "output_type": "stream",
     "text": [
      "[STEP] Convertir columnas del DataFrame a los tipos de datos definidos en dtype_dict\n",
      "Filas x columnas (con tipos corregidos): (67962, 9)\n",
      "<class 'pandas.core.frame.DataFrame'>\n",
      "RangeIndex: 67962 entries, 0 to 67961\n",
      "Data columns (total 9 columns):\n",
      " #   Column         Non-Null Count  Dtype \n",
      "---  ------         --------------  ----- \n",
      " 0   Location Name  67962 non-null  string\n",
      " 1   Lugar          67920 non-null  string\n",
      " 2   Text           67962 non-null  string\n",
      " 3   Rating         67962 non-null  Int64 \n",
      " 4   Year           67962 non-null  Int64 \n",
      " 5   Month          67962 non-null  Int64 \n",
      " 6   Day            67962 non-null  Int64 \n",
      " 7   Ciudad         67962 non-null  string\n",
      " 8   Tipo           67962 non-null  string\n",
      "dtypes: Int64(4), string(5)\n",
      "memory usage: 4.9 MB\n"
     ]
    },
    {
     "data": {
      "text/html": [
       "<div>\n",
       "<style scoped>\n",
       "    .dataframe tbody tr th:only-of-type {\n",
       "        vertical-align: middle;\n",
       "    }\n",
       "\n",
       "    .dataframe tbody tr th {\n",
       "        vertical-align: top;\n",
       "    }\n",
       "\n",
       "    .dataframe thead th {\n",
       "        text-align: right;\n",
       "    }\n",
       "</style>\n",
       "<table border=\"1\" class=\"dataframe\">\n",
       "  <thead>\n",
       "    <tr style=\"text-align: right;\">\n",
       "      <th></th>\n",
       "      <th>Location Name</th>\n",
       "      <th>Lugar</th>\n",
       "      <th>Text</th>\n",
       "      <th>Rating</th>\n",
       "      <th>Year</th>\n",
       "      <th>Month</th>\n",
       "      <th>Day</th>\n",
       "      <th>Ciudad</th>\n",
       "      <th>Tipo</th>\n",
       "    </tr>\n",
       "  </thead>\n",
       "  <tbody>\n",
       "    <tr>\n",
       "      <th>0</th>\n",
       "      <td>Angel_Falls</td>\n",
       "      <td>Angel without a helicopter is not Angel</td>\n",
       "      <td>Pegasus tour costs $750 per person, helicopter...</td>\n",
       "      <td>5</td>\n",
       "      <td>2025</td>\n",
       "      <td>3</td>\n",
       "      <td>11</td>\n",
       "      <td>Canaima_National_Park_Guayana_Region</td>\n",
       "      <td>atraccion</td>\n",
       "    </tr>\n",
       "    <tr>\n",
       "      <th>1</th>\n",
       "      <td>Angel_Falls</td>\n",
       "      <td>Bra stolen</td>\n",
       "      <td>I as a man always wear a bra and I wanted to s...</td>\n",
       "      <td>1</td>\n",
       "      <td>2025</td>\n",
       "      <td>2</td>\n",
       "      <td>6</td>\n",
       "      <td>Canaima_National_Park_Guayana_Region</td>\n",
       "      <td>atraccion</td>\n",
       "    </tr>\n",
       "    <tr>\n",
       "      <th>2</th>\n",
       "      <td>Angel_Falls</td>\n",
       "      <td>A 4 x 4 experience</td>\n",
       "      <td>This excursion I think is the one that everyon...</td>\n",
       "      <td>5</td>\n",
       "      <td>2024</td>\n",
       "      <td>9</td>\n",
       "      <td>11</td>\n",
       "      <td>Canaima_National_Park_Guayana_Region</td>\n",
       "      <td>atraccion</td>\n",
       "    </tr>\n",
       "  </tbody>\n",
       "</table>\n",
       "</div>"
      ],
      "text/plain": [
       "  Location Name                                    Lugar  \\\n",
       "0   Angel_Falls  Angel without a helicopter is not Angel   \n",
       "1   Angel_Falls                               Bra stolen   \n",
       "2   Angel_Falls                       A 4 x 4 experience   \n",
       "\n",
       "                                                Text  Rating  Year  Month  \\\n",
       "0  Pegasus tour costs $750 per person, helicopter...       5  2025      3   \n",
       "1  I as a man always wear a bra and I wanted to s...       1  2025      2   \n",
       "2  This excursion I think is the one that everyon...       5  2024      9   \n",
       "\n",
       "   Day                                Ciudad       Tipo  \n",
       "0   11  Canaima_National_Park_Guayana_Region  atraccion  \n",
       "1    6  Canaima_National_Park_Guayana_Region  atraccion  \n",
       "2   11  Canaima_National_Park_Guayana_Region  atraccion  "
      ]
     },
     "execution_count": 2,
     "metadata": {},
     "output_type": "execute_result"
    }
   ],
   "source": [
    "log_step(\"Convertir columnas del DataFrame a los tipos de datos definidos en dtype_dict\")\n",
    "\n",
    "\n",
    "# Diccionario de tipos deseados\n",
    "dtype_dict = {\n",
    "    \"Location Name\": \"string\",\n",
    "    \"Lugar\": \"string\",\n",
    "    \"Text\": \"string\",\n",
    "    \"Rating\": \"Int64\",   # Entero que acepta NaN\n",
    "    \"Year\": \"Int64\",\n",
    "    \"Month\": \"Int64\",\n",
    "    \"Day\": \"Int64\",\n",
    "    \"Ciudad\": \"string\",\n",
    "    \"Tipo\": \"string\",\n",
    "}\n",
    "\n",
    "# Convertir los tipos después de tener df ya unido\n",
    "df = df.astype(dtype_dict)\n",
    "\n",
    "print(\"Filas x columnas (con tipos corregidos):\", df.shape)\n",
    "df.info()\n",
    "df.head(3)"
   ]
  },
  {
   "cell_type": "markdown",
   "id": "f6d67286-2d8d-4cb5-b067-2c3f3bdedd3a",
   "metadata": {},
   "source": [
    "Renombrar columnas a un esquema claro\n",
    "\n",
    "Qué hace: Renombra a nombres consistentes y en español. Mantiene el slug original y crea campos “limpios” más legibles."
   ]
  },
  {
   "cell_type": "code",
   "execution_count": 3,
   "id": "387bad48-44bf-45a1-99c2-2c4ef55989b6",
   "metadata": {},
   "outputs": [
    {
     "name": "stdout",
     "output_type": "stream",
     "text": [
      "[STEP] Renombrar columnas del DataFrame a un formato estandarizado en minúsculas\n"
     ]
    }
   ],
   "source": [
    "log_step(\"Renombrar columnas del DataFrame a un formato estandarizado en minúsculas\")\n",
    "# renombrar columnas\n",
    "df = df.rename(columns={\n",
    "    \"Location Name\": \"location_name\",  # p.ej. \n",
    "    \"Lugar\": \"review_title\",\n",
    "    \"Text\": \"texto\",\n",
    "    \"Rating\": \"rating\",\n",
    "    \"Year\": \"year\",\n",
    "    \"Month\": \"month\",\n",
    "    \"Day\": \"day\",\n",
    "    \"Ciudad\": \"ciudad_raw\",\n",
    "    \"Tipo\": \"tipo\"\n",
    "})"
   ]
  },
  {
   "cell_type": "markdown",
   "id": "722cc832-31fc-4cf4-a386-6ff31cb0a649",
   "metadata": {},
   "source": [
    "Normalizar y limpiar strings\n",
    "\n",
    "Los textos suelen traer espacios extras, saltos de línea o dobles espacios. Este paso limpia todas las columnas de tipo texto."
   ]
  },
  {
   "cell_type": "code",
   "execution_count": 4,
   "id": "45c28515-771c-4b9a-9291-b6d8be3bd2e9",
   "metadata": {},
   "outputs": [
    {
     "name": "stdout",
     "output_type": "stream",
     "text": [
      "[STEP] Limpiar columnas de texto: reemplazar múltiples espacios, eliminar espacios sobrantes y rellenar NaN con vacío\n"
     ]
    }
   ],
   "source": [
    "log_step(\"Limpiar columnas de texto: reemplazar múltiples espacios, eliminar espacios sobrantes y rellenar NaN con vacío\")\n",
    "# limpieza de strings\n",
    "str_cols = df.select_dtypes(include=\"object\").columns\n",
    "for c in str_cols:\n",
    "    df[c] = (df[c]\n",
    "             .fillna(\"\")                       # evita errores con NaN\n",
    "             .str.replace(r\"\\s+\", \" \", regex=True)  # colapsa espacios múltiples\n",
    "             .str.strip())                     # quita espacios inicio/fin"
   ]
  },
  {
   "cell_type": "markdown",
   "id": "fe2c4dd2-bb28-4594-9325-30c5c9a67f96",
   "metadata": {},
   "source": [
    "Construir columna de fecha\n",
    "\n",
    "Usamos las columnas year, month y day para crear un campo fecha válido."
   ]
  },
  {
   "cell_type": "code",
   "execution_count": 5,
   "id": "a7c8c975-fadc-4be0-b5be-bba0e81d5e5d",
   "metadata": {},
   "outputs": [
    {
     "name": "stdout",
     "output_type": "stream",
     "text": [
      "[STEP] Crear columna de fecha a partir de year, month y day; eliminar registros con fechas inválidas\n"
     ]
    }
   ],
   "source": [
    "log_step(\"Crear columna de fecha a partir de year, month y day; eliminar registros con fechas inválidas\")\n",
    "# crear columna de fecha\n",
    "df[\"fecha\"] = pd.to_datetime(\n",
    "    dict(year=df[\"year\"], month=df[\"month\"], day=df[\"day\"]),\n",
    "    errors=\"coerce\"  # si la fecha es inválida -> NaT\n",
    ")\n",
    "\n",
    "# Eliminar registros con fechas inválidas\n",
    "df = df[df[\"fecha\"].notna()].copy()"
   ]
  },
  {
   "cell_type": "markdown",
   "id": "d357a647-74ea-4a5f-8395-cc0da4de1287",
   "metadata": {},
   "source": [
    "Validar y filtrar ratings\n",
    "\n",
    "Nos aseguramos que rating esté entre 1 y 5"
   ]
  },
  {
   "cell_type": "code",
   "execution_count": 6,
   "id": "a7d1688a-2e7d-4228-800c-478962d12196",
   "metadata": {},
   "outputs": [
    {
     "name": "stdout",
     "output_type": "stream",
     "text": [
      "[STEP] Filtrar únicamente registros con ratings válidos entre 1 y 5\n"
     ]
    }
   ],
   "source": [
    "log_step(\"Filtrar únicamente registros con ratings válidos entre 1 y 5\")\n",
    "# ratings válidos\n",
    "df = df[df[\"rating\"].between(1, 5, inclusive=\"both\")].copy()"
   ]
  },
  {
   "cell_type": "markdown",
   "id": "611d248f-01bf-4f5b-9efa-ff0d22998cbf",
   "metadata": {},
   "source": [
    "Crear un nombre legible para location_name\n",
    "\n",
    "Convertimos el location_name (que viene con guiones bajos) en un formato bonito."
   ]
  },
  {
   "cell_type": "code",
   "execution_count": 7,
   "id": "5e17c378-58f5-48f1-80dc-93df27d940ff",
   "metadata": {},
   "outputs": [
    {
     "name": "stdout",
     "output_type": "stream",
     "text": [
      "[STEP] Normalizar location_name convirtiendo slugs con guiones bajos a títulos capitalizados en nueva columna 'location'\n"
     ]
    }
   ],
   "source": [
    "log_step(\"Normalizar location_name convirtiendo slugs con guiones bajos a títulos capitalizados en nueva columna 'location'\")\n",
    "# limpiar location_name\n",
    "def slug_to_title(s):\n",
    "    if not s:\n",
    "        return None\n",
    "    return \" \".join([p.capitalize() for p in str(s).split(\"_\") if p])\n",
    "\n",
    "df[\"location\"] = df[\"location_name\"].apply(slug_to_title)"
   ]
  },
  {
   "cell_type": "markdown",
   "id": "cc6315e6-a001-4615-8863-646c67b29d8f",
   "metadata": {},
   "source": [
    "Separar ciudad y región de ciudad_raw\n",
    "\n",
    "La columna ciudad_raw tiene formatos tipo Margarita_island_coastal_island_insular_region."
   ]
  },
  {
   "cell_type": "code",
   "execution_count": 8,
   "id": "eee2eb0b-eb80-429c-bcc4-a108fb0aebd2",
   "metadata": {},
   "outputs": [
    {
     "name": "stdout",
     "output_type": "stream",
     "text": [
      "[STEP] Parsear columna ciudad_raw para separar en 'ciudad' y 'region'\n"
     ]
    }
   ],
   "source": [
    "log_step(\"Parsear columna ciudad_raw para separar en 'ciudad' y 'region'\")\n",
    "# parsear ciudad y región\n",
    "def split_ciudad(c_raw):\n",
    "    if not c_raw:\n",
    "        return pd.Series([None, None])\n",
    "    parts = c_raw.split(\"_\")\n",
    "    if len(parts) >= 2 and parts[-1].lower() == \"region\":\n",
    "        region = f\"{parts[-2].capitalize()} {parts[-1].capitalize()}\"\n",
    "        ciudad = \" \".join(p.capitalize() for p in parts[:-2])\n",
    "    else:\n",
    "        region = None\n",
    "        ciudad = \" \".join(p.capitalize() for p in parts)\n",
    "    return pd.Series([ciudad.strip(), region.strip() if region else None])\n",
    "\n",
    "df[[\"ciudad\", \"region\"]] = df[\"ciudad_raw\"].apply(split_ciudad)"
   ]
  },
  {
   "cell_type": "markdown",
   "id": "54bd51cf-a900-4e4b-85e7-fa93ee4c4fad",
   "metadata": {},
   "source": [
    "Limpiar texto y generar una versión “texto_limpio”\n",
    "\n",
    "Quitamos URLs, saltos de línea, HTML y espacios innecesarios."
   ]
  },
  {
   "cell_type": "code",
   "execution_count": 9,
   "id": "fff7654d-2e19-48a3-ba76-00ea8963631f",
   "metadata": {},
   "outputs": [
    {
     "name": "stdout",
     "output_type": "stream",
     "text": [
      "[STEP] Limpiar texto de reviews eliminando URLs, etiquetas HTML, saltos de línea y espacios extra; crear columna 'texto_limpio'\n"
     ]
    }
   ],
   "source": [
    "log_step(\"Limpiar texto de reviews eliminando URLs, etiquetas HTML, saltos de línea y espacios extra; crear columna 'texto_limpio'\")\n",
    "# limpieza de texto\n",
    "\n",
    "URL_RE = re.compile(r\"https?://\\S+|www\\.\\S+\")\n",
    "TAG_RE = re.compile(r\"<.*?>\")\n",
    "\n",
    "def clean_text(t):\n",
    "    if not isinstance(t, str):\n",
    "        return None\n",
    "    t = URL_RE.sub(\" \", t)\n",
    "    t = TAG_RE.sub(\" \", t)\n",
    "    t = t.replace(\"\\n\", \" \").replace(\"\\r\", \" \")\n",
    "    t = re.sub(r\"\\s+\", \" \", t).strip()\n",
    "    return t\n",
    "\n",
    "df[\"texto_limpio\"] = df[\"texto\"].apply(clean_text)\n",
    "df = df.drop(columns='texto')"
   ]
  },
  {
   "cell_type": "markdown",
   "id": "9673c77d-9526-4cb6-9e5b-838ae48652cf",
   "metadata": {},
   "source": [
    "Deduplicar\n",
    "\n",
    "Quitamos duplicados exactos (mismo texto + mismo lugar)."
   ]
  },
  {
   "cell_type": "code",
   "execution_count": 10,
   "id": "5cb5c66f-f99f-4958-a331-05c0d7e9a575",
   "metadata": {},
   "outputs": [
    {
     "name": "stdout",
     "output_type": "stream",
     "text": [
      "[STEP] Eliminar duplicados basados en location_name y texto_limpio, conservando la primera ocurrencia\n",
      "Eliminadas 22 filas duplicadas.\n"
     ]
    }
   ],
   "source": [
    "log_step(\"Eliminar duplicados basados en location_name y texto_limpio, conservando la primera ocurrencia\")\n",
    "# Pdeduplicar por location_name + texto_limpio\n",
    "before = len(df)\n",
    "df = df.drop_duplicates(subset=[\"location_name\", \"texto_limpio\"], keep=\"first\")\n",
    "print(f\"Eliminadas {before - len(df)} filas duplicadas.\")"
   ]
  },
  {
   "cell_type": "code",
   "execution_count": 11,
   "id": "8c74d3a5-94a7-44fb-a502-f537445523aa",
   "metadata": {},
   "outputs": [
    {
     "name": "stdout",
     "output_type": "stream",
     "text": [
      "location_name       0\n",
      "review_title       42\n",
      "rating              0\n",
      "year                0\n",
      "month               0\n",
      "day                 0\n",
      "ciudad_raw          0\n",
      "tipo                0\n",
      "fecha               0\n",
      "location            0\n",
      "ciudad              0\n",
      "region           6226\n",
      "texto_limpio        0\n",
      "dtype: int64\n"
     ]
    }
   ],
   "source": [
    "#comprobar nulos\n",
    "print(df.isna().sum())"
   ]
  },
  {
   "cell_type": "code",
   "execution_count": 12,
   "id": "9cf2c5dc-ef6f-4ac4-ac66-d4a430ff3aa2",
   "metadata": {},
   "outputs": [
    {
     "name": "stdout",
     "output_type": "stream",
     "text": [
      "[STEP] Rellenar valores nulos en 'region' con 'Unknown' y en 'review_title' con 'Generic title'\n",
      "location_name    0\n",
      "review_title     0\n",
      "rating           0\n",
      "year             0\n",
      "month            0\n",
      "day              0\n",
      "ciudad_raw       0\n",
      "tipo             0\n",
      "fecha            0\n",
      "location         0\n",
      "ciudad           0\n",
      "region           0\n",
      "texto_limpio     0\n",
      "dtype: int64\n"
     ]
    }
   ],
   "source": [
    "log_step(\"Rellenar valores nulos en 'region' con 'Unknown' y en 'review_title' con 'Generic title'\")\n",
    "# Rellenar valores nulos\n",
    "df[\"region\"] = df[\"region\"].fillna(\"Unknown\")\n",
    "df[\"review_title\"] = df[\"review_title\"].fillna(\"Generic title\")\n",
    "\n",
    "# Verificamos nuevamente\n",
    "print(df.isna().sum())"
   ]
  },
  {
   "cell_type": "markdown",
   "id": "3532c606-7a49-47c8-ae63-ea6ea813726a",
   "metadata": {},
   "source": [
    "Reordenar columnas finales\n",
    "\n",
    "Dejamos un dataset limpio y ordenado."
   ]
  },
  {
   "cell_type": "code",
   "execution_count": 13,
   "id": "734d9b2e-e11d-40ef-97a3-b898b7ed4b76",
   "metadata": {},
   "outputs": [
    {
     "name": "stdout",
     "output_type": "stream",
     "text": [
      "[STEP] Reordenar columnas del DataFrame según el esquema final definido en final_cols\n"
     ]
    },
    {
     "data": {
      "text/html": [
       "<div>\n",
       "<style scoped>\n",
       "    .dataframe tbody tr th:only-of-type {\n",
       "        vertical-align: middle;\n",
       "    }\n",
       "\n",
       "    .dataframe tbody tr th {\n",
       "        vertical-align: top;\n",
       "    }\n",
       "\n",
       "    .dataframe thead th {\n",
       "        text-align: right;\n",
       "    }\n",
       "</style>\n",
       "<table border=\"1\" class=\"dataframe\">\n",
       "  <thead>\n",
       "    <tr style=\"text-align: right;\">\n",
       "      <th></th>\n",
       "      <th>location_name</th>\n",
       "      <th>location</th>\n",
       "      <th>review_title</th>\n",
       "      <th>texto_limpio</th>\n",
       "      <th>rating</th>\n",
       "      <th>fecha</th>\n",
       "      <th>year</th>\n",
       "      <th>month</th>\n",
       "      <th>day</th>\n",
       "      <th>ciudad_raw</th>\n",
       "      <th>ciudad</th>\n",
       "      <th>region</th>\n",
       "      <th>tipo</th>\n",
       "    </tr>\n",
       "  </thead>\n",
       "  <tbody>\n",
       "    <tr>\n",
       "      <th>0</th>\n",
       "      <td>Angel_Falls</td>\n",
       "      <td>Angel Falls</td>\n",
       "      <td>Angel without a helicopter is not Angel</td>\n",
       "      <td>Pegasus tour costs $750 per person, helicopter...</td>\n",
       "      <td>5</td>\n",
       "      <td>2025-03-11</td>\n",
       "      <td>2025</td>\n",
       "      <td>3</td>\n",
       "      <td>11</td>\n",
       "      <td>Canaima_National_Park_Guayana_Region</td>\n",
       "      <td>Canaima National Park</td>\n",
       "      <td>Guayana Region</td>\n",
       "      <td>atraccion</td>\n",
       "    </tr>\n",
       "    <tr>\n",
       "      <th>1</th>\n",
       "      <td>Angel_Falls</td>\n",
       "      <td>Angel Falls</td>\n",
       "      <td>Bra stolen</td>\n",
       "      <td>I as a man always wear a bra and I wanted to s...</td>\n",
       "      <td>1</td>\n",
       "      <td>2025-02-06</td>\n",
       "      <td>2025</td>\n",
       "      <td>2</td>\n",
       "      <td>6</td>\n",
       "      <td>Canaima_National_Park_Guayana_Region</td>\n",
       "      <td>Canaima National Park</td>\n",
       "      <td>Guayana Region</td>\n",
       "      <td>atraccion</td>\n",
       "    </tr>\n",
       "    <tr>\n",
       "      <th>2</th>\n",
       "      <td>Angel_Falls</td>\n",
       "      <td>Angel Falls</td>\n",
       "      <td>A 4 x 4 experience</td>\n",
       "      <td>This excursion I think is the one that everyon...</td>\n",
       "      <td>5</td>\n",
       "      <td>2024-09-11</td>\n",
       "      <td>2024</td>\n",
       "      <td>9</td>\n",
       "      <td>11</td>\n",
       "      <td>Canaima_National_Park_Guayana_Region</td>\n",
       "      <td>Canaima National Park</td>\n",
       "      <td>Guayana Region</td>\n",
       "      <td>atraccion</td>\n",
       "    </tr>\n",
       "    <tr>\n",
       "      <th>3</th>\n",
       "      <td>Angel_Falls</td>\n",
       "      <td>Angel Falls</td>\n",
       "      <td>A dream come true!!!</td>\n",
       "      <td>One of the best adventures of my life, I met h...</td>\n",
       "      <td>5</td>\n",
       "      <td>2024-08-29</td>\n",
       "      <td>2024</td>\n",
       "      <td>8</td>\n",
       "      <td>29</td>\n",
       "      <td>Canaima_National_Park_Guayana_Region</td>\n",
       "      <td>Canaima National Park</td>\n",
       "      <td>Guayana Region</td>\n",
       "      <td>atraccion</td>\n",
       "    </tr>\n",
       "    <tr>\n",
       "      <th>4</th>\n",
       "      <td>Angel_Falls</td>\n",
       "      <td>Angel Falls</td>\n",
       "      <td>Unforgettable experience and very good organiz...</td>\n",
       "      <td>My trip to Canaima and Salto Angel was unforge...</td>\n",
       "      <td>5</td>\n",
       "      <td>2024-06-25</td>\n",
       "      <td>2024</td>\n",
       "      <td>6</td>\n",
       "      <td>25</td>\n",
       "      <td>Canaima_National_Park_Guayana_Region</td>\n",
       "      <td>Canaima National Park</td>\n",
       "      <td>Guayana Region</td>\n",
       "      <td>atraccion</td>\n",
       "    </tr>\n",
       "  </tbody>\n",
       "</table>\n",
       "</div>"
      ],
      "text/plain": [
       "  location_name     location  \\\n",
       "0   Angel_Falls  Angel Falls   \n",
       "1   Angel_Falls  Angel Falls   \n",
       "2   Angel_Falls  Angel Falls   \n",
       "3   Angel_Falls  Angel Falls   \n",
       "4   Angel_Falls  Angel Falls   \n",
       "\n",
       "                                        review_title  \\\n",
       "0            Angel without a helicopter is not Angel   \n",
       "1                                         Bra stolen   \n",
       "2                                 A 4 x 4 experience   \n",
       "3                               A dream come true!!!   \n",
       "4  Unforgettable experience and very good organiz...   \n",
       "\n",
       "                                        texto_limpio  rating      fecha  year  \\\n",
       "0  Pegasus tour costs $750 per person, helicopter...       5 2025-03-11  2025   \n",
       "1  I as a man always wear a bra and I wanted to s...       1 2025-02-06  2025   \n",
       "2  This excursion I think is the one that everyon...       5 2024-09-11  2024   \n",
       "3  One of the best adventures of my life, I met h...       5 2024-08-29  2024   \n",
       "4  My trip to Canaima and Salto Angel was unforge...       5 2024-06-25  2024   \n",
       "\n",
       "   month  day                            ciudad_raw                 ciudad  \\\n",
       "0      3   11  Canaima_National_Park_Guayana_Region  Canaima National Park   \n",
       "1      2    6  Canaima_National_Park_Guayana_Region  Canaima National Park   \n",
       "2      9   11  Canaima_National_Park_Guayana_Region  Canaima National Park   \n",
       "3      8   29  Canaima_National_Park_Guayana_Region  Canaima National Park   \n",
       "4      6   25  Canaima_National_Park_Guayana_Region  Canaima National Park   \n",
       "\n",
       "           region       tipo  \n",
       "0  Guayana Region  atraccion  \n",
       "1  Guayana Region  atraccion  \n",
       "2  Guayana Region  atraccion  \n",
       "3  Guayana Region  atraccion  \n",
       "4  Guayana Region  atraccion  "
      ]
     },
     "execution_count": 13,
     "metadata": {},
     "output_type": "execute_result"
    }
   ],
   "source": [
    "log_step(\"Reordenar columnas del DataFrame según el esquema final definido en final_cols\")\n",
    "# reordenar columnas\n",
    "final_cols = [\n",
    "    \"location_name\", \"location\",\n",
    "    \"review_title\", \"texto_limpio\",\n",
    "    \"rating\", \"fecha\", \"year\", \"month\", \"day\",\n",
    "    \"ciudad_raw\", \"ciudad\", \"region\",\n",
    "    \"tipo\"\n",
    "]\n",
    "df = df[final_cols]\n",
    "df.head()"
   ]
  },
  {
   "cell_type": "code",
   "execution_count": 14,
   "id": "57b35bf8-98c8-480f-a5a4-3b12bc019145",
   "metadata": {},
   "outputs": [
    {
     "name": "stdout",
     "output_type": "stream",
     "text": [
      "['Canaima National Park' 'Caracas' 'Margarita Island Coastal Islands'\n",
      " 'Maracaibo' 'Los Roques National Park Coastal Islands'\n",
      " 'Chichiriviche Morrocoy National Park Central' 'Merida'\n",
      " 'Coche Island Coastal Islands'\n",
      " 'Pampatar Margarita Island Coastal Islands'\n",
      " 'Juan Griego Margarita Island Coastal Islands' 'Puerto Cabello'\n",
      " 'Ciudad Guayana'\n",
      " 'Isla El Gran Roque Los Roques National Park Coastal Islands' 'North'\n",
      " 'Porlamar Margarita Island Coastal Islands' 'Tucacas Central' ''\n",
      " 'Cumana North' 'San Cristobal' 'Choroni' 'Canaima'\n",
      " 'El Yaque Margarita Island Coastal Islands Insular'\n",
      " 'Isla El Gran Roque Los Roques National Park Coastal Islands Insu'\n",
      " 'Pampatar Margarita Island Coastal Islands Insular' 'El Tigre'\n",
      " 'Maiquetia' 'Maracay' 'Barinas' 'Coro Central' 'Lecheria North'\n",
      " 'Acarigua Central' 'Playa El Agua Margarita Island Coastal Islands'\n",
      " 'Naguanagua' 'El Yaque Margarita Island Coastal Islands' 'Valencia'\n",
      " 'San Pedro Coche Island Coastal Islands' 'El Vigia'\n",
      " 'Gran Roque Isla El Gran Roque Los Roques National Park Coastal Islands'\n",
      " 'Morrocoy National Park Central'\n",
      " 'Pedro Gonzales Margarita Island Coastal Islands' 'Barquisimeto Central'\n",
      " 'Punto Fijo Paraguana Peninsula Central'\n",
      " 'Isla El Gran Roque Los Roques National Park Coastal Islands Insular'\n",
      " 'Arismendi Margarita Island Coastal Islands' 'Tucupita Orinoco Delta'\n",
      " 'Ocumare De La Costa' 'La Colonia Tovar' 'Bejuma' 'El Cobre'\n",
      " 'Gran Roque Isla El Gran Roque Los Roques National Park Coastal Islan'\n",
      " 'Upata'\n",
      " 'Isla El Gran Roque Los Roques National Park Coastal Islands Insular Re'\n",
      " 'Caruao' 'Isla El Gran Roque Los Roques National Park Coastal Island'\n",
      " 'Isla El Gran Roque Los Roques National Park Coastal Islands Insular Reg'\n",
      " 'Isla El Gran Roque Los Roques National Park Coastal Islands Insular Regio'\n",
      " 'Playa Colorada North'\n",
      " 'El Roque Isla El Gran Roque Los Roques National Park Coastal Is' 'Osma'\n",
      " 'El Yaque Margarita Island Coastal Islands Insular Reg'\n",
      " 'Pedro Gonzales Margarita Island Coastal Islands Insular Re'\n",
      " 'El Tirano Margarita Island Coastal Islands'\n",
      " 'El Yaque Margarita Island Coastal Islands Insula'\n",
      " 'Porlamar Margarita Island Coastal Islands Insular Regi']\n",
      "<StringArray>\n",
      "[                                      'Canaima_National_Park_Guayana_Region',\n",
      "                                                     'Caracas_Capital_Region',\n",
      "                            'Margarita_Island_Coastal_Islands_Insular_Region',\n",
      "                                                    'Maracaibo_Zulian_Region',\n",
      "                    'Los_Roques_National_Park_Coastal_Islands_Insular_Region',\n",
      "                'Chichiriviche_Morrocoy_National_Park_Central_Western_Region',\n",
      "                                                       'Merida_Andean_Region',\n",
      "                                'Coche_Island_Coastal_Islands_Insular_Region',\n",
      "                   'Pampatar_Margarita_Island_Coastal_Islands_Insular_Region',\n",
      "                'Juan_Griego_Margarita_Island_Coastal_Islands_Insular_Region',\n",
      "                                              'Puerto_Cabello_Central_Region',\n",
      "                                              'Ciudad_Guayana_Guayana_Region',\n",
      " 'Isla_El_Gran_Roque_Los_Roques_National_Park_Coastal_Islands_Insular_Region',\n",
      "                                                       'North_Eastern_Region',\n",
      "                   'Porlamar_Margarita_Island_Coastal_Islands_Insular_Region',\n",
      "                                             'Tucacas_Central_Western_Region',\n",
      "                                                             'Central_Region',\n",
      "                                                'Cumana_North_Eastern_Region',\n",
      "                                                'San_Cristobal_Andean_Region',\n",
      "                                                     'Choroni_Central_Region',\n",
      "                                                     'Canaima_Guayana_Region',\n",
      "                          'El_Yaque_Margarita_Island_Coastal_Islands_Insular',\n",
      "           'Isla_El_Gran_Roque_Los_Roques_National_Park_Coastal_Islands_Insu',\n",
      "                         'Pampatar_Margarita_Island_Coastal_Islands_Insular_',\n",
      "                                                              'Andean_Region',\n",
      "                                                     'El_Tigre_Llanos_Region',\n",
      "                                                   'Maiquetia_Capital_Region',\n",
      "                                                     'Maracay_Central_Region',\n",
      "                                                      'Barinas_Andean_Region',\n",
      "                                                'Coro_Central_Western_Region',\n",
      "                                              'Lecheria_North_Eastern_Region',\n",
      "                                            'Acarigua_Central_Western_Region',\n",
      "              'Playa_el_Agua_Margarita_Island_Coastal_Islands_Insular_Region',\n",
      "                                                  'Naguanagua_Central_Region',\n",
      "                   'El_Yaque_Margarita_Island_Coastal_Islands_Insular_Region',\n",
      "                                                    'Valencia_Central_Region',\n",
      "                      'San_Pedro_Coche_Island_Coastal_Islands_Insular_Region',\n",
      "                                                     'El_Vigia_Andean_Region',\n",
      "     'Gran_Roque_Isla_El_Gran_Roque_Los_Roques_National_Park_Coastal_Islands',\n",
      "                              'Morrocoy_National_Park_Central_Western_Region',\n",
      "             'Pedro_Gonzales_Margarita_Island_Coastal_Islands_Insular_Region',\n",
      "                                        'Barquisimeto_Central_Western_Region',\n",
      "                      'Punto_Fijo_Paraguana_Peninsula_Central_Western_Region',\n",
      "        'Isla_El_Gran_Roque_Los_Roques_National_Park_Coastal_Islands_Insular',\n",
      "                  'Arismendi_Margarita_Island_Coastal_Islands_Insular_Region',\n",
      "                                      'Tucupita_Orinoco_Delta_Guayana_Region',\n",
      "                                         'Ocumare_de_la_Costa_Central_Region',\n",
      "                                            'La_Colonia_Tovar_Central_Region',\n",
      "                                                      'Bejuma_Central_Region',\n",
      "                                                     'El_Cobre_Andean_Region',\n",
      "       'Gran_Roque_Isla_El_Gran_Roque_Los_Roques_National_Park_Coastal_Islan',\n",
      "                                                       'Upata_Guayana_Region',\n",
      "     'Isla_El_Gran_Roque_Los_Roques_National_Park_Coastal_Islands_Insular_Re',\n",
      "                                                      'Caruao_Capital_Region',\n",
      "                 'Isla_El_Gran_Roque_Los_Roques_National_Park_Coastal_Island',\n",
      "    'Isla_El_Gran_Roque_Los_Roques_National_Park_Coastal_Islands_Insular_Reg',\n",
      "  'Isla_El_Gran_Roque_Los_Roques_National_Park_Coastal_Islands_Insular_Regio',\n",
      "                                        'Playa_Colorada_North_Eastern_Region',\n",
      "            'El_Roque_Isla_El_Gran_Roque_Los_Roques_National_Park_Coastal_Is',\n",
      "                                                        'Osma_Capital_Region',\n",
      "                      'El_Yaque_Margarita_Island_Coastal_Islands_Insular_Reg',\n",
      "                 'Pedro_Gonzales_Margarita_Island_Coastal_Islands_Insular_Re',\n",
      "                  'El_Tirano_Margarita_Island_Coastal_Islands_Insular_Region',\n",
      "                           'El_Yaque_Margarita_Island_Coastal_Islands_Insula',\n",
      "                     'Porlamar_Margarita_Island_Coastal_Islands_Insular_Regi']\n",
      "Length: 65, dtype: string\n"
     ]
    }
   ],
   "source": [
    "print(df[\"ciudad\"].unique())\n",
    "print(df[\"ciudad_raw\"].unique())"
   ]
  },
  {
   "cell_type": "code",
   "execution_count": 15,
   "id": "eb6b3d1d-8d5d-4f90-bb8e-5e6843843c6f",
   "metadata": {},
   "outputs": [
    {
     "name": "stdout",
     "output_type": "stream",
     "text": [
      "[STEP] Normalizar 'ciudad_raw' y unificar nombres de ciudades (Los Roques, Isla Margarita, Isla de Coche, Morrocoy, etc.) en columna 'ciudad'\n"
     ]
    }
   ],
   "source": [
    "log_step(\"Normalizar 'ciudad_raw' y unificar nombres de ciudades (Los Roques, Isla Margarita, Isla de Coche, Morrocoy, etc.) en columna 'ciudad'\")\n",
    "\n",
    "# --- Limpieza directa de 'ciudad_raw' ---\n",
    "def clean_ciudad_raw(s):\n",
    "    if not isinstance(s, str):\n",
    "        return s\n",
    "    s = s.strip()\n",
    "    # Normalizamos sufijos truncados de región\n",
    "    s = re.sub(r\"Insu.*Region$\", \"Insular_Region\", s, flags=re.I)\n",
    "    s = re.sub(r\"North.*Region$\", \"North_Eastern_Region\", s, flags=re.I)\n",
    "    s = re.sub(r\"Central.*Region$\", \"Central_Western_Region\", s, flags=re.I)\n",
    "    return s\n",
    "\n",
    "df[\"ciudad_raw\"] = df[\"ciudad_raw\"].apply(clean_ciudad_raw)\n",
    "\n",
    "# --- Limpieza directa de 'ciudad' ---\n",
    "def clean_ciudad(s):\n",
    "    if not isinstance(s, str):\n",
    "        return s\n",
    "    \n",
    "    s_low = s.lower()\n",
    "\n",
    "    # Unificamos Los Roques\n",
    "    if \"los roques\" in s_low or \"gran roque\" in s_low or \"el roque\" in s_low:\n",
    "        return \"Los Roques\"\n",
    "\n",
    "    # Unificamos Margarita\n",
    "    if (\"margarita\" in s_low or \"pampatar\" in s_low or \"porlamar\" in s_low or \n",
    "        \"juan griego\" in s_low or \"playa el agua\" in s_low or \"el yaque\" in s_low or \n",
    "        \"el tirano\" in s_low or \"arismendi\" in s_low or \"pedro gonzales\" in s_low):\n",
    "        return \"Isla Margarita\"\n",
    "\n",
    "    # Unificamos Coche\n",
    "    if \"coche\" in s_low:\n",
    "        return \"Isla de Coche\"\n",
    "\n",
    "    # Unificamos Morrocoy\n",
    "    if \"morrocoy\" in s_low or \"chichiriviche\" in s_low or \"tucacas\" in s_low:\n",
    "        return \"Morrocoy\"\n",
    "\n",
    "    # Si no coincide con ninguna regla, devolvemos el valor original capitalizado\n",
    "    return s.title()\n",
    "\n",
    "df[\"ciudad\"] = df[\"ciudad\"].apply(clean_ciudad)"
   ]
  },
  {
   "cell_type": "code",
   "execution_count": 16,
   "id": "dca107b8-88ef-4f50-a749-f261e7fbf838",
   "metadata": {},
   "outputs": [
    {
     "name": "stdout",
     "output_type": "stream",
     "text": [
      "['Canaima National Park' 'Caracas' 'Isla Margarita' 'Maracaibo'\n",
      " 'Los Roques' 'Morrocoy' 'Merida' 'Isla de Coche' 'Puerto Cabello'\n",
      " 'Ciudad Guayana' 'North' '' 'Cumana North' 'San Cristobal' 'Choroni'\n",
      " 'Canaima' 'El Tigre' 'Maiquetia' 'Maracay' 'Barinas' 'Coro Central'\n",
      " 'Lecheria North' 'Acarigua Central' 'Naguanagua' 'Valencia' 'El Vigia'\n",
      " 'Barquisimeto Central' 'Punto Fijo Paraguana Peninsula Central'\n",
      " 'Tucupita Orinoco Delta' 'Ocumare De La Costa' 'La Colonia Tovar'\n",
      " 'Bejuma' 'El Cobre' 'Upata' 'Caruao' 'Playa Colorada North' 'Osma']\n",
      "['Canaima_National_Park_Guayana_Region' 'Caracas_Capital_Region'\n",
      " 'Margarita_Island_Coastal_Islands_Insular_Region'\n",
      " 'Maracaibo_Zulian_Region'\n",
      " 'Los_Roques_National_Park_Coastal_Islands_Insular_Region'\n",
      " 'Chichiriviche_Morrocoy_National_Park_Central_Western_Region'\n",
      " 'Merida_Andean_Region' 'Coche_Island_Coastal_Islands_Insular_Region'\n",
      " 'Pampatar_Margarita_Island_Coastal_Islands_Insular_Region'\n",
      " 'Juan_Griego_Margarita_Island_Coastal_Islands_Insular_Region'\n",
      " 'Puerto_Cabello_Central_Western_Region' 'Ciudad_Guayana_Guayana_Region'\n",
      " 'Isla_El_Gran_Roque_Los_Roques_National_Park_Coastal_Islands_Insular_Region'\n",
      " 'North_Eastern_Region'\n",
      " 'Porlamar_Margarita_Island_Coastal_Islands_Insular_Region'\n",
      " 'Tucacas_Central_Western_Region' 'Central_Western_Region'\n",
      " 'Cumana_North_Eastern_Region' 'San_Cristobal_Andean_Region'\n",
      " 'Choroni_Central_Western_Region' 'Canaima_Guayana_Region'\n",
      " 'El_Yaque_Margarita_Island_Coastal_Islands_Insular'\n",
      " 'Isla_El_Gran_Roque_Los_Roques_National_Park_Coastal_Islands_Insu'\n",
      " 'Pampatar_Margarita_Island_Coastal_Islands_Insular_' 'Andean_Region'\n",
      " 'El_Tigre_Llanos_Region' 'Maiquetia_Capital_Region'\n",
      " 'Maracay_Central_Western_Region' 'Barinas_Andean_Region'\n",
      " 'Coro_Central_Western_Region' 'Lecheria_North_Eastern_Region'\n",
      " 'Acarigua_Central_Western_Region'\n",
      " 'Playa_el_Agua_Margarita_Island_Coastal_Islands_Insular_Region'\n",
      " 'Naguanagua_Central_Western_Region'\n",
      " 'El_Yaque_Margarita_Island_Coastal_Islands_Insular_Region'\n",
      " 'Valencia_Central_Western_Region'\n",
      " 'San_Pedro_Coche_Island_Coastal_Islands_Insular_Region'\n",
      " 'El_Vigia_Andean_Region'\n",
      " 'Gran_Roque_Isla_El_Gran_Roque_Los_Roques_National_Park_Coastal_Islands'\n",
      " 'Morrocoy_National_Park_Central_Western_Region'\n",
      " 'Pedro_Gonzales_Margarita_Island_Coastal_Islands_Insular_Region'\n",
      " 'Barquisimeto_Central_Western_Region'\n",
      " 'Punto_Fijo_Paraguana_PenInsular_Region'\n",
      " 'Isla_El_Gran_Roque_Los_Roques_National_Park_Coastal_Islands_Insular'\n",
      " 'Arismendi_Margarita_Island_Coastal_Islands_Insular_Region'\n",
      " 'Tucupita_Orinoco_Delta_Guayana_Region'\n",
      " 'Ocumare_de_la_Costa_Central_Western_Region'\n",
      " 'La_Colonia_Tovar_Central_Western_Region' 'Bejuma_Central_Western_Region'\n",
      " 'El_Cobre_Andean_Region'\n",
      " 'Gran_Roque_Isla_El_Gran_Roque_Los_Roques_National_Park_Coastal_Islan'\n",
      " 'Upata_Guayana_Region'\n",
      " 'Isla_El_Gran_Roque_Los_Roques_National_Park_Coastal_Islands_Insular_Re'\n",
      " 'Caruao_Capital_Region'\n",
      " 'Isla_El_Gran_Roque_Los_Roques_National_Park_Coastal_Island'\n",
      " 'Isla_El_Gran_Roque_Los_Roques_National_Park_Coastal_Islands_Insular_Reg'\n",
      " 'Isla_El_Gran_Roque_Los_Roques_National_Park_Coastal_Islands_Insular_Regio'\n",
      " 'Playa_Colorada_North_Eastern_Region'\n",
      " 'El_Roque_Isla_El_Gran_Roque_Los_Roques_National_Park_Coastal_Is'\n",
      " 'Osma_Capital_Region'\n",
      " 'El_Yaque_Margarita_Island_Coastal_Islands_Insular_Reg'\n",
      " 'Pedro_Gonzales_Margarita_Island_Coastal_Islands_Insular_Re'\n",
      " 'El_Tirano_Margarita_Island_Coastal_Islands_Insular_Region'\n",
      " 'El_Yaque_Margarita_Island_Coastal_Islands_Insula'\n",
      " 'Porlamar_Margarita_Island_Coastal_Islands_Insular_Regi']\n"
     ]
    }
   ],
   "source": [
    "print(df[\"ciudad\"].unique())\n",
    "print(df[\"ciudad_raw\"].unique())"
   ]
  },
  {
   "cell_type": "code",
   "execution_count": 17,
   "id": "99db19b6-aef3-4c40-8f35-b5c7c98a0170",
   "metadata": {},
   "outputs": [
    {
     "name": "stdout",
     "output_type": "stream",
     "text": [
      "[STEP] Guardar DataFrame final como CSV 'tripadvisor_guacamaia_masterbase_ve.csv'\n",
      "Archivo guardado en: C:\\Users\\Jose Ruiz\\Desktop\\tripadvisor_output\\Full\\final_masterbase\\tripadvisor_guacamaia_masterbase_ve.csv\n"
     ]
    }
   ],
   "source": [
    "log_step(\"Guardar DataFrame final como CSV 'tripadvisor_guacamaia_masterbase_ve.csv'\")\n",
    "\n",
    "output_path = Path(r\"C:\\Users\\Jose Ruiz\\Desktop\\tripadvisor_output\\Full\\final_masterbase\")\n",
    "\n",
    "# ===  Guardar dataset ===\n",
    "final_file = output_path / \"tripadvisor_guacamaia_masterbase_ve.csv\"\n",
    "df.to_csv(final_file, index=False, encoding=\"utf-8-sig\")\n",
    "\n",
    "print(f\"Archivo guardado en: {final_file}\")"
   ]
  }
 ],
 "metadata": {
  "kernelspec": {
   "display_name": "Python [conda env:base] *",
   "language": "python",
   "name": "conda-base-py"
  },
  "language_info": {
   "codemirror_mode": {
    "name": "ipython",
    "version": 3
   },
   "file_extension": ".py",
   "mimetype": "text/x-python",
   "name": "python",
   "nbconvert_exporter": "python",
   "pygments_lexer": "ipython3",
   "version": "3.12.3"
  }
 },
 "nbformat": 4,
 "nbformat_minor": 5
}
