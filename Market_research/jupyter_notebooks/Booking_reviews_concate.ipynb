{
 "cells": [
  {
   "cell_type": "code",
   "execution_count": 10,
   "id": "7e9b54be-8e82-414b-a9b8-293b53bd5d90",
   "metadata": {},
   "outputs": [
    {
     "name": "stdout",
     "output_type": "stream",
     "text": [
      "OK → C:\\Users\\Jose Ruiz\\Desktop\\booking_output\\reviews_booking_venezuela.csv | filas: 23137\n"
     ]
    }
   ],
   "source": [
    "from pathlib import Path\n",
    "import pandas as pd\n",
    "import re\n",
    "\n",
    "# Carpeta raíz donde están TODAS las ciudades\n",
    "root = Path(\"C:/Users/Jose Ruiz/Desktop/booking_output\")\n",
    "\n",
    "dfs = []\n",
    "\n",
    "for city_dir in root.iterdir():\n",
    "    if not city_dir.is_dir():\n",
    "        continue\n",
    "    ciudad = city_dir.name.replace(\"-\", \" \").strip()\n",
    "\n",
    "    # Busca el CSV dentro de cada carpeta de hotel (con fecha)\n",
    "    for csv_path in city_dir.glob(\"*/reviews_newest_first.csv\"):\n",
    "        # ===== limpiar nombre del hotel (carpeta padre) =====\n",
    "        raw = csv_path.parent.name\n",
    "        # quita bloque final tipo \"YYYY MM DD HH mm ss\"\n",
    "        raw = re.sub(r\"\\s*\\d{4}(?:\\s+\\d{2}){5}\\s*$\", \"\", raw)\n",
    "        # quita otros números, cambia -/_ por espacios y colapsa espacios\n",
    "        raw = re.sub(r\"\\d+\", \"\", raw)\n",
    "        raw = re.sub(r\"[-_]+\", \" \", raw)\n",
    "        hotel = re.sub(r\"\\s+\", \" \", raw).strip().title()\n",
    "\n",
    "        # ===== leer CSV =====\n",
    "        try:\n",
    "            df = pd.read_csv(csv_path, encoding=\"utf-8\")\n",
    "        except UnicodeDecodeError:\n",
    "            df = pd.read_csv(csv_path, encoding=\"latin-1\")\n",
    "\n",
    "        df[\"hotel\"] = hotel\n",
    "        df[\"ciudad\"] = ciudad\n",
    "        dfs.append(df)\n",
    "\n",
    "# ===== unir y guardar =====\n",
    "final = pd.concat(dfs, ignore_index=True)\n",
    "final.to_csv(root / \"reviews_booking_venezuela.csv\", index=False, encoding=\"utf-8-sig\")\n",
    "print(\"OK →\", root / \"reviews_booking_venezuela.csv\", \"| filas:\", len(final))\n"
   ]
  },
  {
   "cell_type": "code",
   "execution_count": null,
   "id": "f7a5971a-2da5-4c0d-a4fb-43bdb53d6612",
   "metadata": {},
   "outputs": [],
   "source": []
  }
 ],
 "metadata": {
  "kernelspec": {
   "display_name": "Python [conda env:base] *",
   "language": "python",
   "name": "conda-base-py"
  },
  "language_info": {
   "codemirror_mode": {
    "name": "ipython",
    "version": 3
   },
   "file_extension": ".py",
   "mimetype": "text/x-python",
   "name": "python",
   "nbconvert_exporter": "python",
   "pygments_lexer": "ipython3",
   "version": "3.12.3"
  }
 },
 "nbformat": 4,
 "nbformat_minor": 5
}
