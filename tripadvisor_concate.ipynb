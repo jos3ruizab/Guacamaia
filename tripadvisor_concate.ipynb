{
 "cells": [
  {
   "cell_type": "code",
   "execution_count": 5,
   "id": "40bd979b-d1a8-4acd-9d97-dd40b063bcf0",
   "metadata": {},
   "outputs": [
    {
     "name": "stdout",
     "output_type": "stream",
     "text": [
      "Guardado: C:\\Users\\Jose Ruiz\\Desktop\\tripadvisor_output\\Hoteles\\hoteles_venezuela_tripadvisor.csv | Filas: 41950 | Archivos procesados: 100\n"
     ]
    }
   ],
   "source": [
    "from pathlib import Path\n",
    "import pandas as pd\n",
    "\n",
    "# === 1) Configura la ruta de la carpeta ===\n",
    "base = Path(r\"C:\\Users\\Jose Ruiz\\Desktop\\tripadvisor_output\\Hoteles\")  \n",
    "archivos = list(base.glob(\"reviews_*.csv\"))\n",
    "\n",
    "dfs = []\n",
    "for f in archivos:\n",
    "    # === 2) Extraer la parte después del primer '-' ===\n",
    "    stem = f.stem  \n",
    "    # Eliminar prefijo 'reviews_' si existe\n",
    "    name_wo_prefix = stem[len(\"reviews_\"):] if stem.startswith(\"reviews_\") else stem\n",
    "    # Partir en 2 por el primer '-'\n",
    "    partes = name_wo_prefix.split(\"-\", 1)\n",
    "    ciudad_val = partes[1] if len(partes) == 2 else \"\"   # toda la parte final, p.e. \"Los_roques_national_park_coastal_island_insular_region\"\n",
    "\n",
    "    # === 3) Leer CSV con tolerancia de encoding ===\n",
    "    try:\n",
    "        df = pd.read_csv(f, encoding=\"utf-8\")\n",
    "    except UnicodeDecodeError:\n",
    "        df = pd.read_csv(f, encoding=\"latin-1\")\n",
    "\n",
    "    # === 4) Renombrar Title -> Lugar si existe ===\n",
    "    if \"Title\" in df.columns:\n",
    "        df = df.rename(columns={\"Title\": \"Lugar\"})\n",
    "\n",
    "    # === 5) Añadir columnas ===\n",
    "    df[\"Ciudad\"] = ciudad_val              \n",
    "    df[\"Tipo\"] = \"hotel\"\n",
    "\n",
    "    dfs.append(df)\n",
    "\n",
    "# === 6) Unir y exportar ===\n",
    "if dfs:\n",
    "    final = pd.concat(dfs, ignore_index=True)\n",
    "    salida = base / \"hoteles_venezuela_tripadvisor.csv\"\n",
    "    final.to_csv(salida, index=False, encoding=\"utf-8-sig\")\n",
    "    print(f\"Guardado: {salida} | Filas: {len(final)} | Archivos procesados: {len(archivos)}\")\n",
    "else:\n",
    "    print(\"No se encontraron archivos 'reviews_*.csv' en la carpeta.\")"
   ]
  },
  {
   "cell_type": "code",
   "execution_count": null,
   "id": "18e947b7-b33b-4b18-b137-9b00ec830b0d",
   "metadata": {},
   "outputs": [],
   "source": []
  }
 ],
 "metadata": {
  "kernelspec": {
   "display_name": "Python [conda env:base] *",
   "language": "python",
   "name": "conda-base-py"
  },
  "language_info": {
   "codemirror_mode": {
    "name": "ipython",
    "version": 3
   },
   "file_extension": ".py",
   "mimetype": "text/x-python",
   "name": "python",
   "nbconvert_exporter": "python",
   "pygments_lexer": "ipython3",
   "version": "3.12.3"
  }
 },
 "nbformat": 4,
 "nbformat_minor": 5
}
